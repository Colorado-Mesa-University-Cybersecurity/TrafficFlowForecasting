{
 "cells": [
  {
   "cell_type": "code",
   "execution_count": 5,
   "metadata": {},
   "outputs": [],
   "source": [
    "import fastai\n",
    "import os\n",
    "import pprint\n",
    "import torch\n",
    "\n",
    "import matplotlib.pyplot as plt\n",
    "import numpy as np\n",
    "import pandas as pd\n",
    "import torch.nn as nn\n",
    "import torch.optim as optim\n",
    "import torch.utils.data as data\n",
    "\n",
    "from sklearn.preprocessing import (\n",
    "    StandardScaler\n",
    ")\n",
    "\n",
    "from typing import (\n",
    "    Callable,\n",
    "    Dict,\n",
    "    List,\n",
    "    Tuple\n",
    ")\n",
    "\n",
    "from Quick.cleaning.loading import (\n",
    "    examine_dataset,\n",
    "    remove_infs_and_nans\n",
    ")\n",
    "\n",
    "from Quick.cleaning.utils import (\n",
    "    get_file_path\n",
    ")\n",
    "\n",
    "from Quick.runners.deep import (\n",
    "    run_deep_nn_experiment\n",
    ")\n",
    "\n",
    "from Quick.runners.residual import (\n",
    "    run_residual_deep_nn_experiment\n",
    ")\n",
    "\n",
    "from Quick.runners.sk import (\n",
    "    run_sk_experiment\n",
    ")\n",
    "\n",
    "from Quick.runners.torch import (\n",
    "    run_torch_nn_experiment\n",
    ")\n",
    "\n",
    "from rff.layers import (\n",
    "    GaussianEncoding,\n",
    ")\n",
    "\n",
    "\n",
    "from Quick.constants import *\n",
    "\n",
    "pretty = pprint.PrettyPrinter(indent=4).pprint"
   ]
  },
  {
   "cell_type": "code",
   "execution_count": 3,
   "metadata": {},
   "outputs": [
    {
     "name": "stdout",
     "output_type": "stream",
     "text": [
      "We are currently using the device: cpu\n"
     ]
    }
   ],
   "source": [
    "use_gpu: bool = False\n",
    "\n",
    "if(use_gpu):\n",
    "\n",
    "    if(torch.backends.mps.is_available()): # For Mac M1/M2 chips\n",
    "        device = torch.device('mps' if torch.backends.mps.is_available() else 'cpu')\n",
    "    else: # For NVIDIA cuda chips\n",
    "        device = torch.device('cuda' if torch.cuda.is_available() else 'cpu')\n",
    "\n",
    "else:\n",
    "    device = torch.device('cpu')\n",
    "\n",
    "print(f'We are currently using the device: {device}')"
   ]
  },
  {
   "cell_type": "markdown",
   "metadata": {},
   "source": [
    "## We are currently using the CICDDoS-2019 dataset from the Canadian Institute of Cybersecurity, found [here](https://www.unb.ca/cic/datasets/ddos-2019.html). \n",
    "\n",
    "Download the csv files in zip form from the website and extract the zip in the ..data directory"
   ]
  },
  {
   "cell_type": "code",
   "execution_count": 8,
   "metadata": {},
   "outputs": [
    {
     "name": "stdout",
     "output_type": "stream",
     "text": [
      "The datasets we will be working with are:\n",
      "[   '../data/01-12/DrDoS_NTP.csv',\n",
      "    '../data/01-12/DrDoS_DNS.csv',\n",
      "    '../data/01-12/DrDoS_LDAP.csv',\n",
      "    '../data/01-12/DrDoS_MSSQL.csv',\n",
      "    '../data/01-12/DrDoS_NetBIOS.csv',\n",
      "    '../data/01-12/DrDoS_SNMP.csv',\n",
      "    '../data/01-12/DrDoS_SSDP.csv',\n",
      "    '../data/01-12/DrDoS_UDP.csv',\n",
      "    '../data/01-12/UDPLag.csv',\n",
      "    '../data/01-12/Syn.csv',\n",
      "    '../data/01-12/TFTP.csv']\n",
      "and\n",
      "[   '../data/03-11/Portmap.csv',\n",
      "    '../data/03-11/NetBIOS.csv',\n",
      "    '../data/03-11/LDAP.csv',\n",
      "    '../data/03-11/MSSQL.csv',\n",
      "    '../data/03-11/UDP.csv',\n",
      "    '../data/03-11/UDPLAG.csv',\n",
      "    '../data/03-11/SYN.csv']\n"
     ]
    }
   ],
   "source": [
    "ddos_data_path_1: str = '../data/01-12/'\n",
    "ddos_data_path_2: str = '../data/03-11/'\n",
    "\n",
    "# Raw datasets, still contain infs/nans/empty and are all primarily 1 class\n",
    "ddos_data_1: list = [ # https://www.unb.ca/cic/datasets/ddos-2019.html\n",
    "    'DrDoS_NTP.csv',\n",
    "    'DrDoS_DNS.csv',\n",
    "    'DrDoS_LDAP.csv',\n",
    "    'DrDoS_MSSQL.csv',\n",
    "    'DrDoS_NetBIOS.csv',\n",
    "    'DrDoS_SNMP.csv',\n",
    "    'DrDoS_SSDP.csv',\n",
    "    'DrDoS_UDP.csv',\n",
    "    'UDPLag.csv',\n",
    "    'Syn.csv',\n",
    "    'TFTP.csv',\n",
    "]\n",
    "\n",
    "# Raw datasets, still contain infs/nans/empty and are all primarily 1 class\n",
    "ddos_data_2: list = [ # https://www.unb.ca/cic/datasets/ddos-2019.html\n",
    "    'Portmap.csv',\n",
    "    'NetBIOS.csv',\n",
    "    'LDAP.csv',\n",
    "    'MSSQL.csv',\n",
    "    'UDP.csv',\n",
    "    'UDPLAG.csv',\n",
    "    'SYN.csv'\n",
    "]\n",
    "\n",
    "\n",
    "# Now we package the datasets and load when necessary\n",
    "ddos_path_1: callable = get_file_path(ddos_data_path_1)\n",
    "ddos_path_2: callable = get_file_path(ddos_data_path_2)\n",
    "\n",
    "ddos_datasets_1: list = list(map(ddos_path_1, ddos_data_1))\n",
    "ddos_datasets_2: list = list(map(ddos_path_2, ddos_data_2))\n",
    "\n",
    "print(f'The datasets we will be working with are:')\n",
    "pretty(ddos_datasets_1)\n",
    "print('and')\n",
    "pretty(ddos_datasets_2)"
   ]
  },
  {
   "cell_type": "code",
   "execution_count": 9,
   "metadata": {},
   "outputs": [
    {
     "name": "stdout",
     "output_type": "stream",
     "text": [
      "Dataset 0/11: We now look at ../data/01-12/TFTP.csv\n",
      "\n",
      "\n",
      "Loading Dataset: ../data/01-12/TFTP.csv\n",
      "\tTo Dataset Cache: ./cache/TFTP.csv.pickle\n",
      "\n"
     ]
    },
    {
     "name": "stderr",
     "output_type": "stream",
     "text": [
      "/Users/jameshalladay/Programming/TrafficFlowForecasting/prototype/Quick/cleaning/utils.py:49: DtypeWarning: Columns (85) have mixed types. Specify dtype option on import or set low_memory=False.\n",
      "  df = pd.read_csv(filePath, low_memory=True)\n"
     ]
    },
    {
     "name": "stdout",
     "output_type": "stream",
     "text": [
      "\n",
      "        File:\t\t\t\t../data/01-12/TFTP.csv  \n",
      "        Job Number:\t\t\t0\n",
      "        Shape:\t\t\t\t(20107827, 88)\n",
      "        Samples:\t\t\t20107827 \n",
      "        Features:\t\t\t88\n",
      "    \n"
     ]
    }
   ],
   "source": [
    "dataset_1 = examine_dataset(0, ddos_datasets_1.reverse(), ddos_data_1.reverse())"
   ]
  },
  {
   "cell_type": "code",
   "execution_count": null,
   "metadata": {},
   "outputs": [],
   "source": []
  }
 ],
 "metadata": {
  "kernelspec": {
   "display_name": "Python 3.9.16 ('fast_gpu')",
   "language": "python",
   "name": "python3"
  },
  "language_info": {
   "codemirror_mode": {
    "name": "ipython",
    "version": 3
   },
   "file_extension": ".py",
   "mimetype": "text/x-python",
   "name": "python",
   "nbconvert_exporter": "python",
   "pygments_lexer": "ipython3",
   "version": "3.9.16"
  },
  "orig_nbformat": 4,
  "vscode": {
   "interpreter": {
    "hash": "deaf3a77c670ae4bcde0102b8754366ef6094e7b1a1d30917591bfafe6a4ef0f"
   }
  }
 },
 "nbformat": 4,
 "nbformat_minor": 2
}
